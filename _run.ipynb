{
 "cells": [
  {
   "cell_type": "markdown",
   "metadata": {},
   "source": [
    "# CardioGenAI: A Machine Learning-Based Framework for Re-Engineering Drugs for Reduced Cardiotoxicity"
   ]
  },
  {
   "cell_type": "markdown",
   "metadata": {},
   "source": [
    "[![](https://img.shields.io/badge/python-3.11+-blue.svg)](https://www.python.org/downloads/)\n",
    "[![Code style: black](https://img.shields.io/badge/code%20style-black-000000.svg)](https://github.com/psf/black)\n",
    "[![License: MIT](https://img.shields.io/badge/License-MIT-yellow.svg)](https://github.com/gregory-kyro/CardioGenAI/blob/main/LICENSE)"
   ]
  },
  {
   "cell_type": "markdown",
   "metadata": {},
   "source": [
    "### Run Complete CardioGenAI Framework"
   ]
  },
  {
   "cell_type": "code",
   "execution_count": null,
   "metadata": {},
   "outputs": [],
   "source": [
    "from src.Optimization_Framework import optimize_cardiotoxic_drug\n",
    "\n",
    "optimize_cardiotoxic_drug(input_smiles='O=c1[nH]c2ccccc2n1C1CCN(CCCC(c2ccc(F)cc2)c2ccc(F)cc2)CC1',\n",
    "                          herg_activity=(0, 6.0),\n",
    "                          nav_activity=None,\n",
    "                          cav_activity=None,\n",
    "                          n_generations=100,\n",
    "                          device='gpu')\n",
    "\n",
    "\n",
    "# - input_smiles (str): The input SMILES string of the compound that you seek to optimize for reduced cardiotoxicity.\n",
    "\n",
    "# - herg_activity (tuple or str): hERG activity for which to filter. If the entry is a string, it must be either \n",
    "#                                 'blockers' or 'non-blockers'. If it is a tuple, it must indicate a range of activity values.\n",
    "\n",
    "# - nav_activity (tuple or str): NaV1.5 activity for which to filter. If the entry is a string, it must be either \n",
    "#                                'blockers' or 'non-blockers'. If it is a tuple, it must indicate a range of activity values.\n",
    "\n",
    "# - cav_activity (tuple or str): CaV1.2 activity for which to filter. If the entry is a string, it must be either \n",
    "#                                'blockers' or 'non-blockers'. If it is a tuple, it must indicate a range of activity values.\n",
    "\n",
    "# - n_generations (int): The number of optimized drug candidates to generate. Default is 100.\n",
    "\n",
    "# - device (str): The device to use for the optimization. Must be either 'gpu' or 'cpu'. Default is 'gpu'.\n"
   ]
  },
  {
   "cell_type": "markdown",
   "metadata": {},
   "source": [
    "### Perform Inference with Discriminative Models"
   ]
  },
  {
   "cell_type": "code",
   "execution_count": null,
   "metadata": {},
   "outputs": [],
   "source": [
    "from src.Discriminator import predict_cardiac_ion_channel_activity\n",
    "\n",
    "predict_cardiac_ion_channel_activity(input_data='O=c1[nH]c2ccccc2n1C1CCN(CCCC(c2ccc(F)cc2)c2ccc(F)cc2)CC1',\n",
    "                                     prediction_type='regression',\n",
    "                                     predict_hERG=True,\n",
    "                                     predict_Nav=True,\n",
    "                                     predict_Cav=True,\n",
    "                                     device='gpu')\n",
    "\n",
    "\n",
    "# - input_data (str or list): The input data for which the discriminative models will process. If the entry is a string, \n",
    "#                             it must be either a SMILES string or a path to a prepared h5 file. If it is a list, it must \n",
    "#                             be a list of SMILES strings.\n",
    "\n",
    "# - prediction_type (str): Either 'regression' or 'classification'. Default is 'regression'.\n",
    "\n",
    "# - predict_hERG (bool): Whether to predict hERG activity. Default is True.\n",
    "\n",
    "# - predict_Nav (bool): Whether to predict NaV1.5 activity. Default is False.\n",
    "\n",
    "# - predict_Cav (bool): Whether to predict CaV1.2 activity. Default is False.\n",
    "\n",
    "# - device (str): The device to use for the inference computations. Must be either 'gpu' or 'cpu'. Default is 'gpu'."
   ]
  },
  {
   "cell_type": "markdown",
   "metadata": {},
   "source": [
    "### Make Figures in Manuscript"
   ]
  },
  {
   "cell_type": "code",
   "execution_count": null,
   "metadata": {},
   "outputs": [],
   "source": [
    "from src.Figures import get_figures\n",
    "\n",
    "get_figures()"
   ]
  }
 ],
 "metadata": {
  "kernelspec": {
   "display_name": "Python 3",
   "language": "python",
   "name": "python3"
  },
  "language_info": {
   "codemirror_mode": {
    "name": "ipython",
    "version": 3
   },
   "file_extension": ".py",
   "mimetype": "text/x-python",
   "name": "python",
   "nbconvert_exporter": "python",
   "pygments_lexer": "ipython3",
   "version": "3.11.5"
  }
 },
 "nbformat": 4,
 "nbformat_minor": 2
}
